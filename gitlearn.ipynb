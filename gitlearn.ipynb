{
 "cells": [
  {
   "cell_type": "markdown",
   "metadata": {},
   "source": [
    "git init/对文件夹进行初始化，使其变成仓库\n",
    "\n",
    "git add -A/文件从工作区到暂存区\n",
    "\n",
    "git commit -m\"\"/文件从暂存区到仓库\n",
    "\n",
    "git los --stat /查看文件更改历史\n",
    "\n",
    "git checkout 文件名/把文件打回工作区，恢复原来状态\n",
    "\n",
    "git reset HEAD^1/定向当前提交的上几个，1就是上一个，文件打回到暂存区\n",
    "\n",
    "git checkout -b name /以当前分支为基础创建新分支\n",
    "\n",
    "git checkout name/切换到哪个分支(节点)\n",
    "\n",
    "git branch/列举所有分支\n",
    "\n",
    "git branch -D name/删除特定分支\n",
    "\n",
    "git merge name/合并分支（在想要合并别的的分支的分支操作）\n",
    "\n",
    "git merge --abort/合并冲突时，不知道如何处理，可放弃这次合并\n",
    "\n",
    "git remote add origin 远端仓库地址/将新仓库添加为远端仓库\n",
    "\n",
    "git branch -M main/改master为main\n",
    "\n",
    "git push -u origin main/推送，-u是第一次推送时使用，目的是将远端分支和本地分支关联，以后可以简化\n",
    "\n",
    "git pull origin main --rebase/拉取，rebase是避免合并冲突\n"
   ]
  }
 ],
 "metadata": {
  "kernelspec": {
   "display_name": "Python 3",
   "language": "python",
   "name": "python3"
  },
  "language_info": {
   "name": "python",
   "version": "3.9.13"
  }
 },
 "nbformat": 4,
 "nbformat_minor": 2
}
